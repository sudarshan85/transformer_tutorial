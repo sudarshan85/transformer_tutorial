{
 "cells": [
  {
   "cell_type": "markdown",
   "metadata": {},
   "source": [
    "# Transformer From Scratch"
   ]
  },
  {
   "cell_type": "markdown",
   "metadata": {},
   "source": [
    "## Imports & Inits"
   ]
  },
  {
   "cell_type": "code",
   "execution_count": null,
   "metadata": {
    "ExecuteTime": {
     "end_time": "2020-10-31T20:14:02.617225Z",
     "start_time": "2020-10-31T20:14:02.584251Z"
    }
   },
   "outputs": [],
   "source": [
    "%load_ext autoreload\n",
    "%autoreload 2"
   ]
  },
  {
   "cell_type": "code",
   "execution_count": null,
   "metadata": {
    "ExecuteTime": {
     "end_time": "2020-10-31T20:14:07.381109Z",
     "start_time": "2020-10-31T20:14:02.620058Z"
    }
   },
   "outputs": [],
   "source": [
    "import pdb, math\n",
    "from copy import deepcopy\n",
    "\n",
    "import numpy as np\n",
    "np.set_printoptions(precision=4)\n",
    "\n",
    "import matplotlib.pyplot as plt\n",
    "import seaborn as sns\n",
    "sns.set_style(\"darkgrid\")\n",
    "sns.set_context(context=\"talk\")\n",
    "%matplotlib inline\n",
    "\n",
    "import torch;\n",
    "assert(torch.cuda.is_available())\n",
    "from torch import nn\n",
    "from torch.nn import functional as F"
   ]
  },
  {
   "cell_type": "code",
   "execution_count": null,
   "metadata": {
    "ExecuteTime": {
     "end_time": "2020-10-31T20:14:07.406637Z",
     "start_time": "2020-10-31T20:14:07.383660Z"
    }
   },
   "outputs": [],
   "source": [
    "from transformer import *"
   ]
  },
  {
   "cell_type": "code",
   "execution_count": null,
   "metadata": {
    "ExecuteTime": {
     "end_time": "2020-10-31T20:22:19.282352Z",
     "start_time": "2020-10-31T20:22:19.229268Z"
    }
   },
   "outputs": [],
   "source": [
    "def EncoderBlock(nn.Module):\n",
    "  def __init__(self, d_model, n_heads, dropout=0.1, bias=False, **kwargs):\n",
    "    super().__init__(**kwargs)\n",
    "    self.attention = MultiHeadAttention(d_model, n_heads, dropout)\n",
    "      \n",
    "  def forward(self, x, valid_len):\n",
    "    return self.attention(x,x,x, valid_len)"
   ]
  },
  {
   "cell_type": "code",
   "execution_count": null,
   "metadata": {
    "ExecuteTime": {
     "end_time": "2020-10-31T20:10:40.832342Z",
     "start_time": "2020-10-31T20:10:40.811871Z"
    }
   },
   "outputs": [],
   "source": [
    "d_model = 10\n",
    "bs = 3\n",
    "seq_len = 4\n",
    "n_heads = 5\n",
    "d_ff = 5\n",
    "max_len=11\n",
    "\n",
    "dropout = 0.5\n",
    "valid_len = torch.tensor([2,3,2])\n",
    "\n",
    "x = torch.rand(bs, seq_len, d_model)\n",
    "# x = torch.ones(bs, seq_len, d_model)\n",
    "query,key,value = x,x,x"
   ]
  },
  {
   "cell_type": "markdown",
   "metadata": {},
   "source": [
    "## Positional Encoding Figures"
   ]
  },
  {
   "cell_type": "code",
   "execution_count": null,
   "metadata": {
    "ExecuteTime": {
     "end_time": "2020-10-31T20:15:31.803463Z",
     "start_time": "2020-10-31T20:15:31.166492Z"
    }
   },
   "outputs": [],
   "source": [
    "d_model = 20\n",
    "seq_len = 100\n",
    "lower = 4\n",
    "upper = 8\n",
    "fig, ax = plt.subplots(1,1,figsize=(15,5))\n",
    "pe = PositionalEncoding(d_model)\n",
    "y = pe((torch.zeros(1, seq_len, d_model)))\n",
    "ax.plot(np.arange(seq_len), y[0, :, lower:upper].data.numpy())\n",
    "ax.legend([\"dim %d\"%p for p in np.arange(lower,upper)])"
   ]
  },
  {
   "cell_type": "code",
   "execution_count": null,
   "metadata": {
    "ExecuteTime": {
     "end_time": "2020-10-31T20:14:07.841741Z",
     "start_time": "2020-10-31T20:14:07.646560Z"
    }
   },
   "outputs": [],
   "source": [
    "i_s = 5\n",
    "js = np.arange(1, 512, 2)\n",
    "y = np.cos(i_s/10000**(js/512))\n",
    "\n",
    "fig, ax = plt.subplots(1,1,figsize=(15,5))\n",
    "ax.plot(y)\n",
    "y[:20]"
   ]
  }
 ],
 "metadata": {
  "kernelspec": {
   "display_name": "Python 3",
   "language": "python",
   "name": "python3"
  },
  "language_info": {
   "codemirror_mode": {
    "name": "ipython",
    "version": 3
   },
   "file_extension": ".py",
   "mimetype": "text/x-python",
   "name": "python",
   "nbconvert_exporter": "python",
   "pygments_lexer": "ipython3",
   "version": "3.7.9"
  },
  "toc": {
   "base_numbering": 1,
   "nav_menu": {},
   "number_sections": true,
   "sideBar": true,
   "skip_h1_title": true,
   "title_cell": "Table of Contents",
   "title_sidebar": "Contents",
   "toc_cell": false,
   "toc_position": {},
   "toc_section_display": true,
   "toc_window_display": false
  }
 },
 "nbformat": 4,
 "nbformat_minor": 4
}
