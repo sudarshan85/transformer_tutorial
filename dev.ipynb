{
 "cells": [
  {
   "cell_type": "markdown",
   "metadata": {},
   "source": [
    "# Transformer From Scratch"
   ]
  },
  {
   "cell_type": "markdown",
   "metadata": {},
   "source": [
    "## Imports & Inits"
   ]
  },
  {
   "cell_type": "code",
   "execution_count": 1,
   "metadata": {
    "ExecuteTime": {
     "end_time": "2020-10-24T19:25:22.526329Z",
     "start_time": "2020-10-24T19:25:22.409088Z"
    }
   },
   "outputs": [],
   "source": [
    "%load_ext autoreload\n",
    "%autoreload 2"
   ]
  },
  {
   "cell_type": "code",
   "execution_count": 2,
   "metadata": {
    "ExecuteTime": {
     "end_time": "2020-10-24T19:25:27.503281Z",
     "start_time": "2020-10-24T19:25:22.529326Z"
    }
   },
   "outputs": [],
   "source": [
    "import pdb, math\n",
    "from copy import deepcopy\n",
    "\n",
    "import numpy as np\n",
    "np.set_printoptions(precision=4)\n",
    "\n",
    "import matplotlib.pyplot as plt\n",
    "import seaborn as sns\n",
    "sns.set_style(\"darkgrid\")\n",
    "sns.set_context(context=\"talk\")\n",
    "%matplotlib inline\n",
    "\n",
    "import torch;\n",
    "assert(torch.cuda.is_available())\n",
    "from torch import nn\n",
    "from torch.nn import functional as F"
   ]
  },
  {
   "cell_type": "code",
   "execution_count": 3,
   "metadata": {
    "ExecuteTime": {
     "end_time": "2020-10-24T19:25:27.538322Z",
     "start_time": "2020-10-24T19:25:27.506656Z"
    }
   },
   "outputs": [],
   "source": [
    "from transformer import *"
   ]
  },
  {
   "cell_type": "code",
   "execution_count": 4,
   "metadata": {
    "ExecuteTime": {
     "end_time": "2020-10-24T19:25:34.410488Z",
     "start_time": "2020-10-24T19:25:34.360193Z"
    }
   },
   "outputs": [],
   "source": [
    "d_model = 10\n",
    "bs = 3\n",
    "seq_len = 4\n",
    "n_heads = 5\n",
    "\n",
    "dropout = 0.5\n",
    "valid_len = torch.tensor([2,3,2])\n",
    "\n",
    "x = torch.rand(bs, seq_len, d_model)\n",
    "# x = torch.ones(bs, seq_len, d_model)\n",
    "query,key,value = x,x,x"
   ]
  },
  {
   "cell_type": "code",
   "execution_count": 5,
   "metadata": {
    "ExecuteTime": {
     "end_time": "2020-10-24T19:25:34.469027Z",
     "start_time": "2020-10-24T19:25:34.413421Z"
    },
    "scrolled": false
   },
   "outputs": [
    {
     "data": {
      "text/plain": [
       "torch.Size([3, 4, 10])"
      ]
     },
     "execution_count": 5,
     "metadata": {},
     "output_type": "execute_result"
    }
   ],
   "source": [
    "cell = MultiHeadAttention(d_model, n_heads, dropout).eval()\n",
    "o = cell(query, key, value, valid_len)\n",
    "o.shape"
   ]
  },
  {
   "cell_type": "code",
   "execution_count": 9,
   "metadata": {
    "ExecuteTime": {
     "end_time": "2020-10-24T19:32:22.385321Z",
     "start_time": "2020-10-24T19:32:22.329779Z"
    }
   },
   "outputs": [
    {
     "data": {
      "text/plain": [
       "torch.Size([2, 4, 100])"
      ]
     },
     "execution_count": 9,
     "metadata": {},
     "output_type": "execute_result"
    }
   ],
   "source": [
    "cell = MultiHeadAttention(d_model=100, n_heads=10, dropout=0.5).eval()\n",
    "X = torch.ones((2, 4, 100))\n",
    "valid_len = torch.tensor([2, 3])\n",
    "cell(X, X, X, valid_len).shape"
   ]
  },
  {
   "cell_type": "code",
   "execution_count": 22,
   "metadata": {
    "ExecuteTime": {
     "end_time": "2020-10-24T19:45:10.122355Z",
     "start_time": "2020-10-24T19:45:09.833814Z"
    }
   },
   "outputs": [],
   "source": [
    "d_model = 3\n",
    "d_ff = 12"
   ]
  },
  {
   "cell_type": "code",
   "execution_count": 13,
   "metadata": {
    "ExecuteTime": {
     "end_time": "2020-10-24T19:42:45.977661Z",
     "start_time": "2020-10-24T19:42:45.928215Z"
    }
   },
   "outputs": [],
   "source": [
    "m = nn.Sequential(\n",
    "  nn.Linear(d_model,d_f),\n",
    "  nn.ReLU(),\n",
    "  nn.Dropout(0.1),\n",
    "  nn.Linear(5,4)\n",
    ")"
   ]
  },
  {
   "cell_type": "code",
   "execution_count": 12,
   "metadata": {
    "ExecuteTime": {
     "end_time": "2020-10-24T19:42:35.873059Z",
     "start_time": "2020-10-24T19:42:35.582806Z"
    }
   },
   "outputs": [],
   "source": [
    "class PositionWiseFFN(nn.Module):\n",
    "  def __init__(self, d_model, d_ff, dropout=0.1, **kwargs):\n",
    "    super(PositionWiseFFN, self).__init__(**kwargs)\n",
    "    self.lin1 = nn.Linear(d_model, d_ff)\n",
    "    self.lin2 = nn.Linear(d_ff, d_model)\n",
    "    self.dropout = nn.Dropout(dropout)\n",
    "    \n",
    "  def forward(self, x):\n",
    "    return self.lin2(self.dropout(F.relu(self.lin1(x))))\n",
    "    "
   ]
  },
  {
   "cell_type": "code",
   "execution_count": 16,
   "metadata": {
    "ExecuteTime": {
     "end_time": "2020-10-24T19:43:24.433091Z",
     "start_time": "2020-10-24T19:43:24.383582Z"
    }
   },
   "outputs": [],
   "source": [
    "x = torch.ones(5,4)"
   ]
  },
  {
   "cell_type": "code",
   "execution_count": 17,
   "metadata": {
    "ExecuteTime": {
     "end_time": "2020-10-24T19:43:26.497513Z",
     "start_time": "2020-10-24T19:43:26.445141Z"
    }
   },
   "outputs": [
    {
     "data": {
      "text/plain": [
       "tensor([[-0.8078,  0.5296, -0.1468, -1.0689],\n",
       "        [-0.5822,  0.4848, -0.1155, -0.9827],\n",
       "        [-0.8078,  0.5296, -0.1468, -1.0689],\n",
       "        [-0.8078,  0.5296, -0.1468, -1.0689],\n",
       "        [-0.8078,  0.5296, -0.1468, -1.0689]], grad_fn=<AddmmBackward>)"
      ]
     },
     "execution_count": 17,
     "metadata": {},
     "output_type": "execute_result"
    }
   ],
   "source": [
    "m(x)"
   ]
  },
  {
   "cell_type": "code",
   "execution_count": 20,
   "metadata": {
    "ExecuteTime": {
     "end_time": "2020-10-24T19:43:51.765349Z",
     "start_time": "2020-10-24T19:43:51.717554Z"
    }
   },
   "outputs": [],
   "source": [
    "mp = PositionWiseFFN(4,5)"
   ]
  },
  {
   "cell_type": "code",
   "execution_count": 21,
   "metadata": {
    "ExecuteTime": {
     "end_time": "2020-10-24T19:43:52.276956Z",
     "start_time": "2020-10-24T19:43:52.227025Z"
    }
   },
   "outputs": [
    {
     "data": {
      "text/plain": [
       "tensor([[ 0.3388, -0.0771,  0.0130,  0.3074],\n",
       "        [ 0.3388, -0.0771,  0.0130,  0.3074],\n",
       "        [ 0.2719, -0.2133, -0.0192,  0.2970],\n",
       "        [ 0.3519, -0.0867,  0.0303,  0.2919],\n",
       "        [ 0.3388, -0.0771,  0.0130,  0.3074]], grad_fn=<AddmmBackward>)"
      ]
     },
     "execution_count": 21,
     "metadata": {},
     "output_type": "execute_result"
    }
   ],
   "source": [
    "mp(x)"
   ]
  }
 ],
 "metadata": {
  "kernelspec": {
   "display_name": "Python 3",
   "language": "python",
   "name": "python3"
  },
  "language_info": {
   "codemirror_mode": {
    "name": "ipython",
    "version": 3
   },
   "file_extension": ".py",
   "mimetype": "text/x-python",
   "name": "python",
   "nbconvert_exporter": "python",
   "pygments_lexer": "ipython3",
   "version": "3.7.9"
  },
  "toc": {
   "base_numbering": 1,
   "nav_menu": {},
   "number_sections": true,
   "sideBar": true,
   "skip_h1_title": true,
   "title_cell": "Table of Contents",
   "title_sidebar": "Contents",
   "toc_cell": false,
   "toc_position": {},
   "toc_section_display": true,
   "toc_window_display": false
  }
 },
 "nbformat": 4,
 "nbformat_minor": 4
}
