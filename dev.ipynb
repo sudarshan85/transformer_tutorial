{
 "cells": [
  {
   "cell_type": "markdown",
   "metadata": {},
   "source": [
    "# Transformer From Scratch"
   ]
  },
  {
   "cell_type": "markdown",
   "metadata": {},
   "source": [
    "## Imports & Inits"
   ]
  },
  {
   "cell_type": "code",
   "execution_count": null,
   "metadata": {
    "ExecuteTime": {
     "end_time": "2020-10-02T21:08:24.963067Z",
     "start_time": "2020-10-02T21:08:24.930284Z"
    }
   },
   "outputs": [],
   "source": [
    "%load_ext autoreload\n",
    "%autoreload 2"
   ]
  },
  {
   "cell_type": "code",
   "execution_count": null,
   "metadata": {
    "ExecuteTime": {
     "end_time": "2020-10-02T21:08:29.714385Z",
     "start_time": "2020-10-02T21:08:24.965924Z"
    }
   },
   "outputs": [],
   "source": [
    "import pdb, math\n",
    "from copy import deepcopy\n",
    "\n",
    "import numpy as np\n",
    "np.set_printoptions(precision=4)\n",
    "\n",
    "import matplotlib.pyplot as plt\n",
    "import seaborn as sns\n",
    "sns.set_style(\"darkgrid\")\n",
    "sns.set_context(context=\"talk\")\n",
    "%matplotlib inline\n",
    "\n",
    "import torch;\n",
    "assert(torch.cuda.is_available())\n",
    "from torch import nn\n",
    "from torch.nn import functional as F"
   ]
  },
  {
   "cell_type": "code",
   "execution_count": null,
   "metadata": {
    "ExecuteTime": {
     "end_time": "2020-10-02T21:08:29.740364Z",
     "start_time": "2020-10-02T21:08:29.717123Z"
    }
   },
   "outputs": [],
   "source": [
    "from transformer import *"
   ]
  },
  {
   "cell_type": "code",
   "execution_count": null,
   "metadata": {
    "ExecuteTime": {
     "end_time": "2020-10-02T21:08:29.761661Z",
     "start_time": "2020-10-02T21:08:29.741811Z"
    }
   },
   "outputs": [],
   "source": [
    "def transpose_qkv(x, n_heads):\n",
    "  x = x.reshape(x.shape[0], x.shape[1], n_heads, -1)\n",
    "  x = x.permute(0, 2, 1, 3)\n",
    "  x = x.reshape(-1, x.shape[2], x.shape[3])\n",
    "  return x\n",
    "\n",
    "def transpose_output(x, n_heads):\n",
    "  x = x.reshape(-1, n_heads, x.shape[1], x.shape[2])\n",
    "  x = x.permute(0, 2, 1, 3)\n",
    "  x = x.reshape(x.shape[0], x.shape[1], -1)\n",
    "  return x"
   ]
  },
  {
   "cell_type": "code",
   "execution_count": null,
   "metadata": {
    "ExecuteTime": {
     "end_time": "2020-10-02T21:08:29.781686Z",
     "start_time": "2020-10-02T21:08:29.762783Z"
    }
   },
   "outputs": [],
   "source": [
    "d_model = 6\n",
    "bs = 2\n",
    "seq_len = 4\n",
    "n_heads = 3\n",
    "\n",
    "dropout = 0.5\n",
    "valid_len = torch.tensor([2,3])\n",
    "\n",
    "x = torch.rand(bs, seq_len, d_model)\n",
    "query,key,value = x,x,x"
   ]
  },
  {
   "cell_type": "code",
   "execution_count": null,
   "metadata": {
    "ExecuteTime": {
     "end_time": "2020-10-02T21:07:20.211787Z",
     "start_time": "2020-10-02T21:07:20.193095Z"
    }
   },
   "outputs": [],
   "source": [
    "linears = clone_module(nn.Linear(d_model, d_model), 4)"
   ]
  },
  {
   "cell_type": "code",
   "execution_count": null,
   "metadata": {
    "ExecuteTime": {
     "end_time": "2020-10-02T21:07:20.232843Z",
     "start_time": "2020-10-02T21:07:20.212792Z"
    }
   },
   "outputs": [],
   "source": [
    "class MultiHeadAttention1(nn.Module):\n",
    "  def __init__(self, d_model, n_heads, dropout, bias=False, **kwargs):\n",
    "    super(MultiHeadAttention1, self).__init__(**kwargs)\n",
    "    self.n_heads = n_heads\n",
    "    self.d_model = d_model\n",
    "    \n",
    "    self.attention = DotProductAttention(dropout)\n",
    "#     self.W_q = nn.Linear(d_model, d_model, bias=bias)\n",
    "#     self.W_k = nn.Linear(d_model, d_model, bias=bias)\n",
    "#     self.W_v = nn.Linear(d_model, d_model, bias=bias)\n",
    "#     self.W_o = nn.Linear(d_model, d_model, bias=bias)\n",
    "    self.W_q,self.W_k,self.W_v,self.W_o = linears\n",
    "    \n",
    "  def forward(self, query, key, value, valid_len):\n",
    "    query = transpose_qkv(self.W_q(query), self.n_heads)\n",
    "    key = transpose_qkv(self.W_k(key), self.n_heads)\n",
    "    value = transpose_qkv(self.W_v(value), self.n_heads)\n",
    "    \n",
    "    if valid_len is not None:\n",
    "      valid_len = torch.repeat_interleave(valid_len, repeats=self.n_heads, dim=0)\n",
    "    \n",
    "    out = self.attention(query, key, value, valid_len)\n",
    "    out = transpose_output(out, self.n_heads)\n",
    "    out = self.W_o(out)\n",
    "    return out    "
   ]
  },
  {
   "cell_type": "code",
   "execution_count": null,
   "metadata": {
    "ExecuteTime": {
     "end_time": "2020-10-02T21:07:20.254690Z",
     "start_time": "2020-10-02T21:07:20.234723Z"
    }
   },
   "outputs": [],
   "source": [
    "class MultiHeadAttention2(nn.Module):\n",
    "  def __init__(self, d_model, n_heads, dropout, bias=False, **kwargs):\n",
    "    super(MultiHeadAttention2, self).__init__(**kwargs)\n",
    "    self.n_heads = n_heads\n",
    "    self.attn = DotProductAttention(dropout)\n",
    "#     self.linears = clones(nn.Linear(d_model, d_model), 4)\n",
    "    self.linears = linears\n",
    "    \n",
    "  def forward(self, query, key, value, valid_len):\n",
    "    query, key, value = [\n",
    "      l(x).reshape(bs, -1, n_heads, d_model//n_heads)\n",
    "      .transpose(1, 2).reshape(bs * n_heads, seq_len, -1)\n",
    "      for l,x in zip(self.linears, (query, key, value))\n",
    "    ]\n",
    "\n",
    "    if valid_len is not None:\n",
    "      valid_len = torch.repeat_interleave(valid_len, repeats=self.n_heads, dim=0)\n",
    "      \n",
    "    out = self.attn(query, key, value, valid_len)\n",
    "    out = out.reshape(bs, n_heads, seq_len, -1).transpose(1,2).reshape(bs, seq_len, -1)\n",
    "    out = self.linears[-1](out)\n",
    "    return out    "
   ]
  },
  {
   "cell_type": "code",
   "execution_count": null,
   "metadata": {
    "ExecuteTime": {
     "end_time": "2020-10-02T21:07:20.280425Z",
     "start_time": "2020-10-02T21:07:20.255800Z"
    }
   },
   "outputs": [],
   "source": [
    "cell = MultiHeadAttention1(d_model, n_heads, dropout).eval()\n",
    "o1 = cell(query, key, value, valid_len)"
   ]
  },
  {
   "cell_type": "code",
   "execution_count": null,
   "metadata": {
    "ExecuteTime": {
     "end_time": "2020-10-02T21:07:20.306923Z",
     "start_time": "2020-10-02T21:07:20.281751Z"
    }
   },
   "outputs": [],
   "source": [
    "cell = MultiHeadAttention2(d_model, n_heads, dropout).eval()\n",
    "o2 = cell(query, key, value, valid_len)"
   ]
  },
  {
   "cell_type": "code",
   "execution_count": null,
   "metadata": {
    "ExecuteTime": {
     "end_time": "2020-10-02T21:07:20.331258Z",
     "start_time": "2020-10-02T21:07:20.308169Z"
    }
   },
   "outputs": [],
   "source": [
    "torch.all(o1 == o2).item()"
   ]
  },
  {
   "cell_type": "code",
   "execution_count": null,
   "metadata": {
    "ExecuteTime": {
     "end_time": "2020-10-02T21:08:30.534623Z",
     "start_time": "2020-10-02T21:08:30.465873Z"
    }
   },
   "outputs": [],
   "source": [
    "cell = MultiHeadAttention(d_model, n_heads, dropout).eval()\n",
    "o = cell(query, key, value, valid_len)\n",
    "o.shape"
   ]
  },
  {
   "cell_type": "code",
   "execution_count": null,
   "metadata": {
    "ExecuteTime": {
     "end_time": "2020-10-02T21:13:09.111301Z",
     "start_time": "2020-10-02T21:13:08.804830Z"
    }
   },
   "outputs": [],
   "source": [
    "cell = MultiHeadAttention(100, 10, 0.5)\n",
    "cell.eval()\n",
    "X = torch.ones((2, 4, 100))\n",
    "valid_len = torch.tensor([2, 3])\n",
    "cell(X, X, X, valid_len).shape"
   ]
  },
  {
   "cell_type": "code",
   "execution_count": null,
   "metadata": {
    "ExecuteTime": {
     "end_time": "2020-10-02T20:48:28.176053Z",
     "start_time": "2020-10-02T20:48:28.155189Z"
    }
   },
   "outputs": [],
   "source": [
    "w_q = nn.Linear(d_model, d_model, bias=False)\n",
    "q = w_q(x)\n",
    "q.shape"
   ]
  },
  {
   "cell_type": "code",
   "execution_count": null,
   "metadata": {
    "ExecuteTime": {
     "end_time": "2020-10-02T20:48:28.198346Z",
     "start_time": "2020-10-02T20:48:28.177752Z"
    }
   },
   "outputs": [],
   "source": [
    "q1 = transpose_qkv(q, n_heads)\n",
    "q2 = q.reshape(bs, -1, n_heads, d_model//n_heads).transpose(1, 2).reshape(bs * n_heads, seq_len, -1)\n",
    "q1 == q2"
   ]
  },
  {
   "cell_type": "code",
   "execution_count": null,
   "metadata": {
    "ExecuteTime": {
     "end_time": "2020-10-02T20:48:28.219392Z",
     "start_time": "2020-10-02T20:48:28.199550Z"
    }
   },
   "outputs": [],
   "source": [
    "o1 = transpose_output(q1, n_heads)\n",
    "o2 = q2.reshape(bs, n_heads, seq_len, -1).transpose(1,2).reshape(bs, seq_len, -1)\n",
    "o1 == o2"
   ]
  },
  {
   "cell_type": "code",
   "execution_count": null,
   "metadata": {
    "ExecuteTime": {
     "end_time": "2020-10-02T20:48:39.568303Z",
     "start_time": "2020-10-02T20:48:39.518247Z"
    }
   },
   "outputs": [],
   "source": [
    "o1 == o2"
   ]
  },
  {
   "cell_type": "code",
   "execution_count": null,
   "metadata": {
    "ExecuteTime": {
     "end_time": "2020-10-02T20:48:38.263473Z",
     "start_time": "2020-10-02T20:48:38.205489Z"
    }
   },
   "outputs": [],
   "source": [
    "cell = MultiHeadAttention(d_model, n_heads, dropout).eval()\n",
    "o1 = cell(query, key, value, valid_len)"
   ]
  },
  {
   "cell_type": "code",
   "execution_count": null,
   "metadata": {
    "ExecuteTime": {
     "end_time": "2020-10-02T20:48:38.957076Z",
     "start_time": "2020-10-02T20:48:38.934473Z"
    }
   },
   "outputs": [],
   "source": [
    "cell = MultiHeadAttention1(d_model, n_heads, dropout).eval()\n",
    "o2 = cell(query, key, value, valid_len)"
   ]
  }
 ],
 "metadata": {
  "kernelspec": {
   "display_name": "Python 3",
   "language": "python",
   "name": "python3"
  },
  "language_info": {
   "codemirror_mode": {
    "name": "ipython",
    "version": 3
   },
   "file_extension": ".py",
   "mimetype": "text/x-python",
   "name": "python",
   "nbconvert_exporter": "python",
   "pygments_lexer": "ipython3",
   "version": "3.7.9"
  },
  "toc": {
   "base_numbering": 1,
   "nav_menu": {},
   "number_sections": true,
   "sideBar": true,
   "skip_h1_title": true,
   "title_cell": "Table of Contents",
   "title_sidebar": "Contents",
   "toc_cell": false,
   "toc_position": {},
   "toc_section_display": true,
   "toc_window_display": false
  }
 },
 "nbformat": 4,
 "nbformat_minor": 4
}
