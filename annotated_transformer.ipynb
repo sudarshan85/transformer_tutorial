{
 "cells": [
  {
   "cell_type": "markdown",
   "metadata": {},
   "source": [
    "# The Annotated Transformer Tutorial\n",
    "This is a reimplementation of the famous [Annotated Transformer](http://nlp.seas.harvard.edu/2018/04/03/attention.html) that I did to better understand the transformer."
   ]
  },
  {
   "cell_type": "markdown",
   "metadata": {},
   "source": [
    "## Imports & Inits"
   ]
  },
  {
   "cell_type": "code",
   "execution_count": null,
   "metadata": {
    "ExecuteTime": {
     "end_time": "2020-09-02T21:46:15.467225Z",
     "start_time": "2020-09-02T21:46:15.435283Z"
    }
   },
   "outputs": [],
   "source": [
    "%load_ext autoreload\n",
    "%autoreload 2"
   ]
  },
  {
   "cell_type": "code",
   "execution_count": null,
   "metadata": {
    "ExecuteTime": {
     "end_time": "2020-09-02T21:46:17.553959Z",
     "start_time": "2020-09-02T21:46:15.469842Z"
    }
   },
   "outputs": [],
   "source": [
    "import math, time, pdb\n",
    "import numpy as np\n",
    "np.set_printoptions(precision=4)\n",
    "\n",
    "from copy import deepcopy\n",
    "import matplotlib.pyplot as plt\n",
    "import seaborn as sns\n",
    "sns.set_style(\"darkgrid\")\n",
    "sns.set_context(context=\"talk\")\n",
    "%matplotlib inline\n",
    "\n",
    "import torch\n",
    "from torch import nn\n",
    "from torch.nn import functional as F\n",
    "\n",
    "import pytorch_lightning as pl"
   ]
  },
  {
   "cell_type": "markdown",
   "metadata": {},
   "source": [
    "## Functions"
   ]
  },
  {
   "cell_type": "code",
   "execution_count": null,
   "metadata": {
    "ExecuteTime": {
     "end_time": "2020-09-02T21:46:17.653607Z",
     "start_time": "2020-09-02T21:46:17.556578Z"
    }
   },
   "outputs": [],
   "source": [
    "clones = lambda module, n: nn.ModuleList([deepcopy(module) for _ in range(n)])\n",
    "\n",
    "def subsequent_mask(size):\n",
    "  \"\"\"\n",
    "  Function to mask subsequent positions in the output.\n",
    "  This is done to prevent the decoder stack from attending to\n",
    "  subsequent positions and ensures that the predictions for any\n",
    "  position can depend only on the known outputs at the positions before.\n",
    "  \"\"\"\n",
    "  attn_shape = (1, size, size)\n",
    "  subsq_mask = np.triu(np.ones(attn_shape), k=1).astype('uint8')\n",
    "  return torch.from_numpy(subsq_mask) == 0"
   ]
  },
  {
   "cell_type": "markdown",
   "metadata": {},
   "source": [
    "## Connection Layers"
   ]
  },
  {
   "cell_type": "code",
   "execution_count": null,
   "metadata": {
    "ExecuteTime": {
     "end_time": "2020-09-02T21:46:17.682770Z",
     "start_time": "2020-09-02T21:46:17.655735Z"
    }
   },
   "outputs": [],
   "source": [
    "class LayerNorm(nn.Module):\n",
    "  \"\"\"\n",
    "  Construct a layernorm module.\n",
    "  TODO: Replace this with Pytorch's inbuilt LayerNorm class\n",
    "  \"\"\"\n",
    "  def __init__(self, features, eps=1e-6):\n",
    "    super(LayerNorm, self).__init__()\n",
    "    self.a_2 = nn.Parameter(torch.ones(features))\n",
    "    self.b_2 = nn.Parameter(torch.zeros(features))\n",
    "    self.eps = eps\n",
    "    \n",
    "  def forward(self, x):\n",
    "    mean = x.mean(-1, keepdim=True)\n",
    "    std = x.std(-1, keepdim=True)\n",
    "    return self.a_2 * (x - mean) / (std + self.eps) + self.b_2\n",
    "\n",
    "class ResidualConnection(nn.Module):\n",
    "  \"\"\"\n",
    "  A residual connection followed by a layer norm.\n",
    "  Note for code simplicity the norm is first as opposed to last.\n",
    "  \"\"\"\n",
    "  def __init__(self, size, dropout):\n",
    "    super(ResidualConnection, self).__init__()\n",
    "    self.norm = LayerNorm(size)\n",
    "    self.dropout = nn.Dropout(dropout)\n",
    "    \n",
    "  def forward(self, x, sublayer):\n",
    "    \"\"\"\n",
    "    Apply residual connection to any subplayer with the same size.\n",
    "    \"\"\"\n",
    "    return x + self.dropout(subplayer(self.norm(x)))  "
   ]
  },
  {
   "cell_type": "markdown",
   "metadata": {},
   "source": [
    "## Encoder"
   ]
  },
  {
   "cell_type": "code",
   "execution_count": null,
   "metadata": {
    "ExecuteTime": {
     "end_time": "2020-09-02T21:46:17.709598Z",
     "start_time": "2020-09-02T21:46:17.684061Z"
    }
   },
   "outputs": [],
   "source": [
    "class EncoderStack(nn.Module):\n",
    "  \"\"\"\n",
    "  Encoder stack is a stack of 'n' encoder layers.\n",
    "  \"\"\"\n",
    "  def __init__(self, encoder, n_layers):\n",
    "    super(EncoderStack, self).__init__()\n",
    "    self.encoders = clones(encoder, n_layers)\n",
    "    self.norm = LayerNorm(layer.size) # change this to pytorch's LayerNorm\n",
    "    \n",
    "  def forward(self, x, mask):\n",
    "    \"\"\"\n",
    "    Pass the input (and mask) through each encoder in turn.\n",
    "    \"\"\"\n",
    "    for encoder in self.encoders:\n",
    "      x = encoder(x, mask)\n",
    "      \n",
    "    return self.norm(x)\n",
    "\n",
    "class Encoder(nn.Module):\n",
    "  \"\"\"\n",
    "  The encoder is made up of a self attention layer and a feed forward layer.\n",
    "  \"\"\"\n",
    "  def __init__(self, size, self_attn, feed_forward, dropout):\n",
    "    super(Encoder, self).__init__()\n",
    "    self.self_attn = self_attn\n",
    "    self.feed_forward = feed_forward\n",
    "    self.subplayer = clones(ResidualConnection(size, dropout), 2)\n",
    "    self.size = size\n",
    "    \n",
    "  def forward(self, x, mask):\n",
    "    \"\"\"\n",
    "    This function does the following:\n",
    "    1. Three copies corresponding of the input to the query, key, and value along\n",
    "       with the mask is fed into the self attention layer\n",
    "    2. Output from 1 is sent to residual connection layer which also applies\n",
    "       layer normalization\n",
    "    3. Output from 2 is fed into the feed forward layer\n",
    "    4. Output from 3 is sent to residual connection layer which also applies\n",
    "       layer normalization\n",
    "    \"\"\"\n",
    "    x = self.sublayer[0](x, lambda x: self.self_attn(x, x, x, mask))\n",
    "    return self.sublayer[1](x, self.feed_forward)"
   ]
  },
  {
   "cell_type": "markdown",
   "metadata": {},
   "source": [
    "## Decoder"
   ]
  },
  {
   "cell_type": "code",
   "execution_count": null,
   "metadata": {
    "ExecuteTime": {
     "end_time": "2020-09-02T21:46:17.733603Z",
     "start_time": "2020-09-02T21:46:17.711106Z"
    }
   },
   "outputs": [],
   "source": [
    "class DecoderStack(nn.Module):\n",
    "  \"\"\"\n",
    "  Generic 'n' layer decoder stack with masking.\n",
    "  \"\"\"\n",
    "  def __init__(self, decoder, n_layers):\n",
    "    super(DecoderStack, self).__init__()\n",
    "    self.decoders = clones(decoder, n_layers)\n",
    "    self.norm = LayerNorm(layer.size) # change this to pytorch's LayerNorm\n",
    "    \n",
    "  def forward(self, x, encoder_output, src_mask, target_mask):\n",
    "    for decoder in self.decoders:\n",
    "      x = decoder(x, encoder_output, src_mask, target_mask)\n",
    "      \n",
    "    return self.norm(x) "
   ]
  },
  {
   "cell_type": "code",
   "execution_count": null,
   "metadata": {
    "ExecuteTime": {
     "end_time": "2020-09-02T21:46:17.757451Z",
     "start_time": "2020-09-02T21:46:17.734750Z"
    }
   },
   "outputs": [],
   "source": [
    "class Decoder(nn.Module):\n",
    "  \"\"\"\n",
    "  The decoder is made up of self attention, source attention\n",
    "  providing the keys and values from the encoder output, and feed forward.\n",
    "  \"\"\"\n",
    "  def __init__(self, size, self_attn, src_attn, feed_forward, dropout):\n",
    "    super(Decoder, self).__init__()\n",
    "    self.self_attn = self_attn\n",
    "    self.src_attn = src_attn\n",
    "    self.feed_forward = feed_forward\n",
    "    self.subplayer = clones(ResidualConnection(size, dropout), 3)\n",
    "    self.size = size\n",
    "    \n",
    "  def forward(self, x, encoder_output, src_mask, target_mask):\n",
    "    \"\"\"\n",
    "    This function does the following:\n",
    "    1. Three copies corresponding of the generated output to the query, key, and value along\n",
    "       with the mask is fed into the self attention layer\n",
    "    2. Output from 1 is sent to residual connection layer which also applies\n",
    "       layer normalization\n",
    "    3. Output from 2 is fed into the source attention layer, with the keys and values\n",
    "       coming from the encoder and query coming from step 2\n",
    "    4. Output from 3 is sent to residual connection layer which also applies\n",
    "       layer normalization\n",
    "    5. Output from 4 is fed into a feed forward layer which is then sent to the\n",
    "       residual connection layer\n",
    "    \"\"\"\n",
    "    x = self.sublayer[0](x, lambda x: self.self_attn(x, x, x, target_mask))\n",
    "    x = self.sublayer[1](x, lambda x: self.src_attn(x, encoder_output, encoder_output, src_mask))\n",
    "    return self.sublayer[2](x, self.feed_forward)"
   ]
  },
  {
   "cell_type": "markdown",
   "metadata": {},
   "source": [
    "## Attention"
   ]
  },
  {
   "cell_type": "code",
   "execution_count": null,
   "metadata": {
    "ExecuteTime": {
     "end_time": "2020-09-02T21:46:17.780739Z",
     "start_time": "2020-09-02T21:46:17.759591Z"
    }
   },
   "outputs": [],
   "source": [
    "def attention(query, key, value, mask=None, dropout=None):\n",
    "  \"\"\"\n",
    "  Compute 'Scaled Dot Product Attention'\n",
    "  \"\"\"\n",
    "  d_k = query.size(-1)\n",
    "  scores = torch.matmul(query, key.transpose(-2, -1)) / math.sqrt(d_k) # scale for stable gradients\n",
    "  if mask is not None:\n",
    "    scores = scores.maksed_fill(mask == 0, -1e9)\n",
    "  p_attn = F.softmax(scores, dim=-1)\n",
    "  if dropout is not None:\n",
    "    p_attn = dropout(p_attn)\n",
    "    \n",
    "  return torch.matmul(p_attn, value), p_attn"
   ]
  },
  {
   "cell_type": "code",
   "execution_count": null,
   "metadata": {
    "ExecuteTime": {
     "end_time": "2020-09-02T21:46:17.805309Z",
     "start_time": "2020-09-02T21:46:17.781920Z"
    }
   },
   "outputs": [],
   "source": [
    "class MultiHeadAttention(nn.Module):\n",
    "  \"\"\"\n",
    "  Class impelementing multiple attention cells each with its \n",
    "  own query, key, and value vectors that are used to calculate \n",
    "  scores and output vectors which are concatenated and passed through\n",
    "  a linear layer to get the final output.\n",
    "  \"\"\"\n",
    "  def __init__(self, h, d_model, dropout=0.1):\n",
    "    super(MultiHeadAttention, self).__init__()\n",
    "    assert d_model % h == 0 # assume d_v = d_k\n",
    "    self.d_k = d_model // h\n",
    "    self.h = h\n",
    "    self.linears = clones(nn.Linear(d_model, d_model), 4)\n",
    "    self.attn = None\n",
    "    self.dropout = nn.Dropout(dropout)\n",
    "\n",
    "  def forward(self, query, key, value, mask=None):\n",
    "    if mask is not None:\n",
    "      mask = mask.unsqueeze(1) # same mask is applied to all h heads\n",
    "    \n",
    "    nbatchs = query.size(0)\n",
    "    \n",
    "    # 1) The query, key, and value vectors are first fed into the linear layers by\n",
    "    #    all the linear projections in a batch from d_model => h x d_k\n",
    "    query, key, value = [l(x).view(nbatchs, -1, self.h, self.d_k).transpose(1, 2) for l,x in zip(self.linears, (query, key, value))]\n",
    "    \n",
    "    # 2) Apply attention on all the projected vectors in a batch\n",
    "    x, self.attn = attention(query, key, value, mask=mask, dropout=self.dropout)\n",
    "    \n",
    "    # 3) \"concat\" using view and apply a final linear\n",
    "    x = x.transpose(1, 2).contiguous().view(nbatchs, -1, self.h * self.d_k)\n",
    "    \n",
    "    return self.linears[-1](x)    "
   ]
  },
  {
   "cell_type": "markdown",
   "metadata": {},
   "source": [
    "## Feedforward, Embeddings, and Positional Encoding"
   ]
  },
  {
   "cell_type": "code",
   "execution_count": null,
   "metadata": {
    "ExecuteTime": {
     "end_time": "2020-09-02T21:46:17.827358Z",
     "start_time": "2020-09-02T21:46:17.806440Z"
    }
   },
   "outputs": [],
   "source": [
    "class PositionWiseFeedForward(nn.Module):\n",
    "  \"\"\"\n",
    "  Implements the feed forward part of the encoder\n",
    "  \"\"\"\n",
    "  def __init__(self, d_model, d_ff, dropout=0.1):\n",
    "    super(PositionWiseFeedForward, self).__init__()\n",
    "    self.w_1 = nn.Linear(d_model, d_ff)\n",
    "    self.w_2 = nn.Linear(d_ff, d_model)\n",
    "    self.dropout = nn.Dropout(dropout)\n",
    "    \n",
    "  def forward(self, x):\n",
    "    return self.w_2(self.dropout(F.relu(self.w_1(x))))"
   ]
  },
  {
   "cell_type": "code",
   "execution_count": null,
   "metadata": {
    "ExecuteTime": {
     "end_time": "2020-09-02T21:46:17.848927Z",
     "start_time": "2020-09-02T21:46:17.828505Z"
    }
   },
   "outputs": [],
   "source": [
    "class Embeddings(nn.Module):\n",
    "  \"\"\"\n",
    "  Input and output embedding layers.\n",
    "  \"\"\"\n",
    "  def __init__(self, d_model, vocab):\n",
    "    super(Embeddings, self).__init__()\n",
    "    self.lut = nn.Embedding(vocab, d_model)\n",
    "    self.d_model = d_model\n",
    "    \n",
    "  def forward(self, x):\n",
    "    return self.lut(x) * math.sqrt(self.d_model)"
   ]
  },
  {
   "cell_type": "code",
   "execution_count": null,
   "metadata": {
    "ExecuteTime": {
     "end_time": "2020-09-02T21:46:17.871553Z",
     "start_time": "2020-09-02T21:46:17.850170Z"
    }
   },
   "outputs": [],
   "source": [
    "class PositionalEncoding(nn.Module):\n",
    "  \"\"\"\n",
    "  Positional encoding function\n",
    "  Even position i pe(pos, 2i) = sin(pos/10000^(2i/d_model))\n",
    "  Odd position i pe(pos, 2i+1) = cos(pos/10000^(2i/d_model))\n",
    "  \"\"\"\n",
    "  def __init__(self, d_model, dropout, max_len=5000):\n",
    "    super(PositionalEncoding, self).__init__()\n",
    "    self.dropout = nn.Dropout(dropout)\n",
    "\n",
    "    # Compute the positional encodings once in log space.\n",
    "    pe = torch.zeros(max_len, d_model)\n",
    "    position = torch.arange(0, max_len).unsqueeze(1)\n",
    "    div_term = torch.exp(torch.arange(0, d_model, 2) * -(math.log(10000.0) / d_model))\n",
    "    pe[:, 0::2] = torch.sin(position * div_term)\n",
    "    pe[:, 1::2] = torch.cos(position * div_term)\n",
    "    self.pe = pe.unsqueeze(0)\n",
    "\n",
    "  def forward(self, x):\n",
    "    x = x + self.pe[:, :x.size(1)]\n",
    "    return self.dropout(x)"
   ]
  },
  {
   "cell_type": "code",
   "execution_count": null,
   "metadata": {
    "ExecuteTime": {
     "end_time": "2020-09-02T21:46:38.157659Z",
     "start_time": "2020-09-02T21:46:37.823250Z"
    }
   },
   "outputs": [],
   "source": [
    "fig, ax = plt.subplots(1,1,figsize=(15,5))\n",
    "pe = PositionalEncoding(20, 0)\n",
    "y = pe(torch.zeros(1, 100, 20))\n",
    "ax.plot(np.arange(100), y[0, :, 4:8].data.numpy())\n",
    "ax.legend([\"dim %d\"%p for p in [4,5,6,7]])"
   ]
  },
  {
   "cell_type": "markdown",
   "metadata": {},
   "source": [
    "## Final Model Architecture"
   ]
  },
  {
   "cell_type": "code",
   "execution_count": null,
   "metadata": {
    "ExecuteTime": {
     "end_time": "2020-09-01T16:15:51.003636Z",
     "start_time": "2020-09-01T16:15:50.737024Z"
    }
   },
   "outputs": [],
   "source": [
    "class Transformer(nn.Module):\n",
    "  \"\"\"\n",
    "  The main Transformer architecture made up of an encoder\n",
    "  stack and a decoder stack. Base for this and many other models. \n",
    "  \"\"\"\n",
    "  def __ini__(self, encoder_stack, decoder_stack, src_emb, target_emb, generator):\n",
    "    super(Transformer, self).__ini__()\n",
    "    self.enc_stack = encoder_stack\n",
    "    self.dec_stack = decoder_stack\n",
    "    self.src_emb = src_emb \n",
    "    self.target_emb = target_emb\n",
    "    self.gen = generator\n",
    "    \n",
    "  def forward(self, src, tgt, src_mask, tgt_mask):\n",
    "    \"\"\"\n",
    "    Take in and process masked source and target sequences. \n",
    "    \"\"\"\n",
    "    encoder_output = self.enc_stack(self.src_emb(src), src_mask)\n",
    "    decoder_output = self.dec_stack(self.target_emb(target), encoder_output, src_mask, target_mask)\n",
    "    return decoder_output\n",
    "\n",
    "class Generator(nn.Module):\n",
    "  \"\"\"\n",
    "  The final layer which contains a linear + softmax layer\n",
    "  for generation of output sequence\n",
    "  \"\"\"\n",
    "  def __init__(self, d_model, vocab):\n",
    "    super(Generator, self).__init__()\n",
    "    self.proj = nn.Linear(d_model, vocab)\n",
    "    \n",
    "  def forward(self, x):\n",
    "    return F.log_softmax(self.proj(x), dim=-1)"
   ]
  }
 ],
 "metadata": {
  "kernelspec": {
   "display_name": "Python 3",
   "language": "python",
   "name": "python3"
  },
  "language_info": {
   "codemirror_mode": {
    "name": "ipython",
    "version": 3
   },
   "file_extension": ".py",
   "mimetype": "text/x-python",
   "name": "python",
   "nbconvert_exporter": "python",
   "pygments_lexer": "ipython3",
   "version": "3.7.9"
  },
  "toc": {
   "base_numbering": 1,
   "nav_menu": {},
   "number_sections": true,
   "sideBar": true,
   "skip_h1_title": true,
   "title_cell": "Table of Contents",
   "title_sidebar": "Contents",
   "toc_cell": false,
   "toc_position": {},
   "toc_section_display": true,
   "toc_window_display": false
  }
 },
 "nbformat": 4,
 "nbformat_minor": 4
}
